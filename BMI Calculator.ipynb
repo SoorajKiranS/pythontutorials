{
 "cells": [
  {
   "cell_type": "code",
   "execution_count": 25,
   "id": "2fb2ac60-4ed0-4628-84d8-d90e7566cd5f",
   "metadata": {},
   "outputs": [
    {
     "name": "stdin",
     "output_type": "stream",
     "text": [
      "Please say your name:  sooraj\n",
      "sooraj enter your weight in kilograms:  85\n",
      "sooraj enter your height in meters:  1.81\n"
     ]
    },
    {
     "name": "stdout",
     "output_type": "stream",
     "text": [
      "Your BMI is: 25.95\n",
      "sooraj, you are Obese Class I (High risk)\n"
     ]
    }
   ],
   "source": [
    "name = input(\"Please say your name: \")\n",
    "weight = float(input(name + \" enter your weight in kilograms: \"))\n",
    "height = float(input(name + \" enter your height in meters: \"))\n",
    "\n",
    "# BMI formula\n",
    "bmi = weight / (height ** 2)\n",
    "print(\"Your BMI is:\", round(bmi, 2))\n",
    "\n",
    "# WHO classification for Indians\n",
    "if bmi < 18.5:\n",
    "    print(name + \", you are Underweight (Nutritional deficiency)\")\n",
    "elif 18.5 <= bmi <= 22.9:\n",
    "    print(name + \", you are Normal weight (Low risk)\")\n",
    "elif 23 <= bmi <= 24.9:\n",
    "    print(name + \", you are Overweight (Increased risk)\")\n",
    "elif 25 <= bmi <= 29.9:\n",
    "    print(name + \", you are Obese Class I (High risk)\")\n",
    "else:  # bmi >= 30\n",
    "    print(name + \", you are Obese Class II (Very high risk)\")"
   ]
  },
  {
   "cell_type": "code",
   "execution_count": null,
   "id": "396dacfe-26e3-4bef-ae52-4a9b95169f1f",
   "metadata": {},
   "outputs": [],
   "source": []
  },
  {
   "cell_type": "code",
   "execution_count": null,
   "id": "16c8585e-a4f7-4f9e-b021-40ac1513fe3d",
   "metadata": {},
   "outputs": [],
   "source": [
    "Under 18.5\tUnderweight\tMinimal\n",
    "18.5 - 24.9\tNormal Weight\tMinimal\n",
    "25 - 29.9\tOverweight\tIncreased\n",
    "30 - 34.9\tObese\tHigh\n",
    "35 - 39.9\tSeverely Obese\tVery High\n",
    "40 and over\tMorbidly Obese\tExtremely High\n"
   ]
  }
 ],
 "metadata": {
  "kernelspec": {
   "display_name": "Python 3 (ipykernel)",
   "language": "python",
   "name": "python3"
  },
  "language_info": {
   "codemirror_mode": {
    "name": "ipython",
    "version": 3
   },
   "file_extension": ".py",
   "mimetype": "text/x-python",
   "name": "python",
   "nbconvert_exporter": "python",
   "pygments_lexer": "ipython3",
   "version": "3.13.5"
  }
 },
 "nbformat": 4,
 "nbformat_minor": 5
}
