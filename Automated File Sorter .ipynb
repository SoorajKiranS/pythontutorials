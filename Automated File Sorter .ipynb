{
 "cells": [
  {
   "cell_type": "code",
   "execution_count": 26,
   "id": "23ee3f56-745b-4b88-bf04-7f4971f8575c",
   "metadata": {},
   "outputs": [],
   "source": [
    "#File handling library\n",
    "import os\n",
    "import shutil\n",
    "\n",
    "# Path to your files\n",
    "path = r\"D:/personalworkspace/Data-Analyst datas/python/all_filesets_for_file_sorting/\"\n",
    "\n",
    "# List all files\n",
    "file_name = os.listdir(path)\n",
    "\n",
    "# Create folders if not exist\n",
    "folder_names = [\"csv_files\", \"txt_files\", \"image_files\"]\n",
    "\n",
    "for folder in folder_names:\n",
    "    folder_path = os.path.join(path, folder)\n",
    "    if not os.path.exists(folder_path):\n",
    "        os.makedirs(folder_path)\n",
    "\n",
    "# Sort files into folders\n",
    "for file in file_name:\n",
    "    if file.endswith(\".csv\"):\n",
    "        shutil.move(os.path.join(path, file), os.path.join(path, \"csv_files\", file))\n",
    "        print( os.path.join(path, \"csv_files\", file))\n",
    "        print(\"Moved:\", file, \"→ csv_files\")\n",
    "\n",
    "    elif file.endswith(\".txt\"):\n",
    "        shutil.move(os.path.join(path, file), os.path.join(path, \"txt_files\", file))\n",
    "        print(\"Moved:\", file, \"→ txt_files\")\n",
    "\n",
    "    elif file.endswith((\".png\", \".jpg\", \".jpeg\")):\n",
    "        shutil.move(os.path.join(path, file), os.path.join(path, \"image_files\", file))\n",
    "        print(\"Moved:\", file, \"→ image_files\")\n"
   ]
  },
  {
   "cell_type": "code",
   "execution_count": null,
   "id": "9a93730c-c01c-48fc-888a-08c913a97cc0",
   "metadata": {},
   "outputs": [],
   "source": []
  },
  {
   "cell_type": "code",
   "execution_count": null,
   "id": "a93fd210-3914-4f85-a0fa-372d63296fb8",
   "metadata": {},
   "outputs": [],
   "source": []
  }
 ],
 "metadata": {
  "kernelspec": {
   "display_name": "Python 3 (ipykernel)",
   "language": "python",
   "name": "python3"
  },
  "language_info": {
   "codemirror_mode": {
    "name": "ipython",
    "version": 3
   },
   "file_extension": ".py",
   "mimetype": "text/x-python",
   "name": "python",
   "nbconvert_exporter": "python",
   "pygments_lexer": "ipython3",
   "version": "3.13.5"
  }
 },
 "nbformat": 4,
 "nbformat_minor": 5
}
